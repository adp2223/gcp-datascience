{
 "cells": [
  {
   "cell_type": "markdown",
   "metadata": {},
   "source": [
    "# R, BIGQUERY, CLOUD STORAGE SETUP"
   ]
  },
  {
   "cell_type": "markdown",
   "metadata": {},
   "source": [
    "## Install and import necessary R libraries for this notebook, set options"
   ]
  },
  {
   "cell_type": "code",
   "execution_count": null,
   "metadata": {},
   "outputs": [],
   "source": [
    "suppressMessages({\n",
    "  # Install packages that might be not be installed by default \n",
    "  # install.packages('plotly')\n",
    "  # install.packages('furrr')\n",
    "  # install.packages('tictoc')\n",
    "\n",
    "  library(tidyverse)\n",
    "  library(glue)\n",
    "  library(future)\n",
    "  library(furrr)\n",
    "  library(tictoc)\n",
    "    \n",
    "  library(bigrquery)\n",
    "    \n",
    "  library(DT)\n",
    "  library(plotly)\n",
    "})\n",
    "\n",
    "options(tibble.width = Inf)"
   ]
  },
  {
   "cell_type": "markdown",
   "metadata": {},
   "source": [
    "## Enter Google Cloud/BigQuery Project ID in cell below, authenticate BigQuery"
   ]
  },
  {
   "cell_type": "code",
   "execution_count": null,
   "metadata": {},
   "outputs": [],
   "source": [
    "# ENTER YOUR PROJECT ID HERE\n",
    "PROJECT_ID <- 'gcp-data-science-demo'\n",
    "\n",
    "bq_auth(use_oob = TRUE)"
   ]
  },
  {
   "cell_type": "markdown",
   "metadata": {},
   "source": [
    "# PICK 2 ATHLETES OF INTEREST AND LOOK AT DAILY WIKIPEDIA VIEWS"
   ]
  },
  {
   "cell_type": "markdown",
   "metadata": {},
   "source": [
    "## Enter names of 2 athletes of interest in cell below"
   ]
  },
  {
   "cell_type": "code",
   "execution_count": null,
   "metadata": {},
   "outputs": [],
   "source": [
    "# ENTER 2 ATHLETES' NAMES HERE\n",
    "ATHLETE_1_NAME <- 'LeBron James'\n",
    "ATHLETE_2_NAME <- 'Patrick Mahomes'\n",
    "\n",
    "athlete_wiki_page_titles <- c(ATHLETE_1_NAME, ATHLETE_2_NAME) %>%\n",
    "  tolower() %>%\n",
    "  str_replace(\" \", \"_\") %>%\n",
    "  paste0(\"'\", ., \"'\") %>%\n",
    "  paste0(collapse = \", \") %>%\n",
    "  paste0(\"(\", ., \")\")\n",
    "\n",
    "print(athlete_wiki_page_titles)"
   ]
  },
  {
   "cell_type": "markdown",
   "metadata": {},
   "source": [
    "## Create SQL query to get specific Wikipedia page views using text formatting"
   ]
  },
  {
   "cell_type": "code",
   "execution_count": null,
   "metadata": {},
   "outputs": [],
   "source": [
    "sql_query_with_names_param <- \"\n",
    "    SELECT\n",
    "      DATE(datehour, 'America/Los_Angeles') AS date,\n",
    "      LOWER(title) AS page_title,\n",
    "      SUM(views) AS views\n",
    "\n",
    "    FROM \n",
    "      `bigquery-public-data.wikipedia.pageviews_2020`\n",
    "\n",
    "    WHERE \n",
    "      DATE(datehour, 'America/Los_Angeles') >= '2020-01-01' AND\n",
    "      DATE(datehour, 'America/Los_Angeles') <= '2020-12-31' AND\n",
    "      LOWER(title) IN %s AND\n",
    "      wiki IN ('en', 'en.m')\n",
    "\n",
    "    GROUP BY\n",
    "      date, page_title\n",
    "\n",
    "    ORDER BY\n",
    "      date DESC, views DESC\n",
    "    \"\n",
    "\n",
    "sql_query_with_names <- sprintf(sql_query_with_names_param,\n",
    "  athlete_wiki_page_titles)\n",
    "\n",
    "cat(sql_query_with_names)"
   ]
  },
  {
   "cell_type": "markdown",
   "metadata": {},
   "source": [
    "## Look at page views data with both static and interactive tables"
   ]
  },
  {
   "cell_type": "code",
   "execution_count": null,
   "metadata": {},
   "outputs": [],
   "source": [
    "athlete_views <- bq_project_query(\n",
    "  x = PROJECT_ID,\n",
    "  query = sql_query_with_names\n",
    "  ) %>%\n",
    "  bq_table_download()\n",
    "\n",
    "head(athlete_views, n = 10)"
   ]
  },
  {
   "cell_type": "code",
   "execution_count": null,
   "metadata": {},
   "outputs": [],
   "source": [
    "DT::datatable(athlete_views)"
   ]
  },
  {
   "cell_type": "markdown",
   "metadata": {},
   "source": [
    "## Create interactive plot of 2 athletes daily views"
   ]
  },
  {
   "cell_type": "code",
   "execution_count": null,
   "metadata": {},
   "outputs": [],
   "source": [
    "athlete_views_by_date_plot <- ggplot( \n",
    "  data = athlete_views,\n",
    "  aes(\n",
    "    x = date,\n",
    "    y = views,\n",
    "    color = page_title\n",
    "    ),\n",
    "  ) + \n",
    "  scale_x_date(date_breaks = 'month', date_labels = '%b %d') +\n",
    "  scale_color_manual(values = \n",
    "    c('#552583', '#E31837')\n",
    "    ) +\n",
    "  geom_point() + \n",
    "  geom_path() +\n",
    "  ggtitle(\n",
    "    label = paste0('2020 Wikipedia Page Views by Date for ',\n",
    "      paste0(c(ATHLETE_1_NAME, ATHLETE_2_NAME), collapse = ', '))\n",
    "    ) + \n",
    "  theme(\n",
    "    axis.text.x = element_text(angle = 45)\n",
    "    )\n",
    "\n",
    "interactive_athlete_views_by_date_plot <- ggplotly(athlete_views_by_date_plot)\n",
    "\n",
    "interactive_athlete_views_by_date_plot"
   ]
  },
  {
   "cell_type": "markdown",
   "metadata": {},
   "source": [
    "### Output single plot to Cloud Storage using system commands"
   ]
  },
  {
   "cell_type": "code",
   "execution_count": null,
   "metadata": {},
   "outputs": [],
   "source": [
    "# ENTER CLOUD STORAGE BUCKET AND DESIRED INTERACTIVE PLOT OUTPUT FILE NAME\n",
    "CLOUD_STORAGE_BUCKET <- 'r-demos'\n",
    "PLOT_OUTPUT_FILENAME <- \"athlete_wiki_views_by_date.html\"\n",
    "\n",
    "htmlwidgets::saveWidget(\n",
    "  widget = interactive_athlete_views_by_date_plot, \n",
    "  file = PLOT_OUTPUT_FILENAME,\n",
    "  selfcontained = T\n",
    "  )\n",
    "\n",
    "cloud_storage_bucket_url <- paste0(\"gs://\", CLOUD_STORAGE_BUCKET, \"/\")\n",
    "\n",
    "cloud_storage_upload_command <- paste(\"gsutil cp\", PLOT_OUTPUT_FILENAME,\n",
    "  cloud_storage_bucket_url)\n",
    "\n",
    "system(cloud_storage_upload_command)\n",
    "\n",
    "cloud_storage_check_command <- paste(\"gsutil ls -l\", \n",
    "  cloud_storage_bucket_url)\n",
    "\n",
    "system(cloud_storage_check_command, intern = TRUE)"
   ]
  },
  {
   "cell_type": "markdown",
   "metadata": {},
   "source": [
    "# BONUS: EXTEND DATA GATHERING TO MANY MORE ATHLETES"
   ]
  },
  {
   "cell_type": "markdown",
   "metadata": {},
   "source": [
    "## Set up for parallel processing in following steps"
   ]
  },
  {
   "cell_type": "code",
   "execution_count": null,
   "metadata": {},
   "outputs": [],
   "source": [
    "options(future.availableCores.methods = \"mc.cores\")\n",
    "\n",
    "options(mc.cores = 64)\n",
    "\n",
    "plan(multisession)"
   ]
  },
  {
   "cell_type": "markdown",
   "metadata": {},
   "source": [
    "## Read in CSV of top athletes according to YouGov"
   ]
  },
  {
   "cell_type": "code",
   "execution_count": null,
   "metadata": {},
   "outputs": [],
   "source": [
    "top_athletes <- read_csv(\"top_athletes_by_yougov.csv\") %>%\n",
    "  mutate(\n",
    "    page_title = athlete_name %>%\n",
    "      tolower() %>%\n",
    "      str_replace(\" \", \"_\") %>%\n",
    "      paste0(., \n",
    "        ifelse(is.na(wikipedia_page_add), \"\",\n",
    "          paste0('_', wikipedia_page_add))\n",
    "        )\n",
    "    ) %>%\n",
    "  print(n = 25)"
   ]
  },
  {
   "cell_type": "markdown",
   "metadata": {},
   "source": [
    "## Create template of SQL query to be used to read in single athlete, single year page views"
   ]
  },
  {
   "cell_type": "code",
   "execution_count": null,
   "metadata": {},
   "outputs": [],
   "source": [
    "wiki_views_query_template <- \"\n",
    "    SELECT\n",
    "      DATE(datehour, 'America/Los_Angeles') AS date,\n",
    "      LOWER(title) AS page_title,\n",
    "      SUM(views) AS views\n",
    "\n",
    "    FROM \n",
    "      `bigquery-public-data.wikipedia.pageviews_{year}`\n",
    "\n",
    "    WHERE \n",
    "      (DATE(datehour, 'America/Los_Angeles') BETWEEN \n",
    "        '{year}-01-01' AND '{year}-12-31') AND\n",
    "      LOWER(title) = '{page_title}' AND\n",
    "      wiki IN ('en', 'en.m')\n",
    "\n",
    "    GROUP BY\n",
    "      date, page_title\n",
    "  \""
   ]
  },
  {
   "cell_type": "markdown",
   "metadata": {},
   "source": [
    "## Enter years of interest, read in page view data for many athletes in that span (this may take several minutes, depending on years)"
   ]
  },
  {
   "cell_type": "code",
   "execution_count": null,
   "metadata": {},
   "outputs": [],
   "source": [
    "# ENTER START AND END YEARS FOR PAGE VIEW DATA GATHERING\n",
    "START_YEAR <- 2017\n",
    "END_YEAR <- 2020\n",
    "\n",
    "tic(\"Reading in Wikipedia Page View Data for Many Athletes Across Multiple Years\")\n",
    "\n",
    "many_athlete_multi_year_page_views <- top_athletes %>%\n",
    "  crossing(\n",
    "    year = START_YEAR:END_YEAR\n",
    "    ) %>%\n",
    "  mutate(\n",
    "    wiki_views_query_text = glue(wiki_views_query_template)\n",
    "    ) %>%\n",
    "  mutate(\n",
    "    wiki_views = future_pmap(\n",
    "      list(query = wiki_views_query_text),\n",
    "      ~bq_table_download(bq_project_query(x = PROJECT_ID, query = .))\n",
    "     )\n",
    "    ) %>%\n",
    "  print()\n",
    "\n",
    "toc()"
   ]
  },
  {
   "cell_type": "markdown",
   "metadata": {},
   "source": [
    "## Get unnested version of athlete daily page views data, add daily ranking (among this set)"
   ]
  },
  {
   "cell_type": "code",
   "execution_count": null,
   "metadata": {},
   "outputs": [],
   "source": [
    "athlete_page_views_unnest_with_ranks <- many_athlete_multi_year_page_views %>%\n",
    "  select(year, athlete_name, wiki_views) %>%\n",
    "  unnest(wiki_views) %>%\n",
    "  select(date, athlete_name, views) %>%\n",
    "  group_by(date) %>%\n",
    "  mutate(\n",
    "    date_view_rank = rank(desc(views))\n",
    "    ) %>%\n",
    "  ungroup() %>%\n",
    "  arrange(desc(date), date_view_rank)\n",
    "\n",
    "DT::datatable(athlete_page_views_unnest_with_ranks)"
   ]
  },
  {
   "cell_type": "markdown",
   "metadata": {},
   "source": [
    "## Count # of days each athlete ranked #1 (among this set) in Wikipedia page views in span, look at those w/ most #1 days"
   ]
  },
  {
   "cell_type": "code",
   "execution_count": null,
   "metadata": {},
   "outputs": [],
   "source": [
    "athletes_with_most_days_no1_in_views <- athlete_page_views_unnest_with_ranks %>%\n",
    "  group_by(athlete_name) %>%\n",
    "  summarize(\n",
    "    num_days_no1 = sum(ifelse(date_view_rank == 1, 1, 0))\n",
    "    ) %>%\n",
    "  ungroup() %>%\n",
    "  arrange(desc(num_days_no1)) %>%\n",
    "  print(n = 25)"
   ]
  }
 ],
 "metadata": {
  "environment": {
   "name": "r-cpu.3-6.m56",
   "type": "gcloud",
   "uri": "gcr.io/deeplearning-platform-release/r-cpu.3-6:m56"
  },
  "kernelspec": {
   "display_name": "R",
   "language": "R",
   "name": "ir"
  },
  "language_info": {
   "codemirror_mode": "r",
   "file_extension": ".r",
   "mimetype": "text/x-r-source",
   "name": "R",
   "pygments_lexer": "r",
   "version": "3.6.3"
  }
 },
 "nbformat": 4,
 "nbformat_minor": 4
}
