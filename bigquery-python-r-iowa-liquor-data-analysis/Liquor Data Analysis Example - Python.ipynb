{
 "cells": [
  {
   "cell_type": "markdown",
   "metadata": {},
   "source": [
    "# Python and BigQuery Setup\n",
    "<hr>"
   ]
  },
  {
   "cell_type": "code",
   "execution_count": null,
   "metadata": {},
   "outputs": [],
   "source": [
    "# Import basic Python data science libraries\n",
    "import pandas as pd\n",
    "import numpy as np\n",
    "\n",
    "# Import BigQuery library\n",
    "from google.cloud import bigquery\n",
    "\n",
    "# Import Exceptions library to help with dataset error catching\n",
    "from google.cloud.exceptions import NotFound\n",
    "\n",
    "# Install chart_studio, to use plotly in notebooks\n",
    "!pip install --upgrade chart_studio --quiet\n",
    "\n",
    "# Import and setup for plotly\n",
    "import chart_studio.plotly as py\n",
    "\n",
    "# Import plotly express for quick plots\n",
    "import plotly.express as px"
   ]
  },
  {
   "cell_type": "code",
   "execution_count": null,
   "metadata": {},
   "outputs": [],
   "source": [
    "# Setup BigQuery project, create 'bqml_tutorial' dataset in project if necessary\n",
    "\n",
    "# ENTER YOUR PROJECT ID HERE\n",
    "PROJECT_ID = \"gcp-data-science-demo\"\n",
    "\n",
    "# Create BigQuery client\n",
    "client = bigquery.Client(project = PROJECT_ID)\n",
    "\n",
    "project_dataset_name =  '{}.bqml_tutorial'.format(PROJECT_ID)\n",
    "\n",
    "# If 'bqml_tutorial' dataset does not exist in project, create it\n",
    "try:\n",
    "    dataset_id = bigquery.Dataset(project_dataset_name)\n",
    "    client.get_dataset(dataset_id) \n",
    "    print(\"Dataset {} already exists\".format(project_dataset_name))\n",
    "    \n",
    "except NotFound:\n",
    "    print(\"Dataset {} does not exist\".format(project_dataset_name))\n",
    "    \n",
    "    dataset = client.create_dataset(bigquery.Dataset(\n",
    "      project_dataset_name)) \n",
    "    \n",
    "    print(\"Created dataset {}\".format(project_dataset_name))"
   ]
  },
  {
   "cell_type": "markdown",
   "metadata": {},
   "source": [
    "# Exploratory Analysis of Sales Categories\n",
    "<hr>"
   ]
  },
  {
   "cell_type": "markdown",
   "metadata": {},
   "source": [
    "#### Monthly Sales by Category"
   ]
  },
  {
   "cell_type": "code",
   "execution_count": null,
   "metadata": {},
   "outputs": [],
   "source": [
    "%%bigquery sales_by_category_month\n",
    "SELECT\n",
    "  FORMAT_DATE('%Y-%m', date) AS month,\n",
    "  category,\n",
    "  category_name,\n",
    "\n",
    "  SUM(volume_sold_gallons) AS category_monthly_gallons,\n",
    "  SUM(sale_dollars) AS category_monthly_dollars\n",
    "  \n",
    "FROM\n",
    "  `bigquery-public-data.iowa_liquor_sales.sales` Sales\n",
    "\n",
    "WHERE\n",
    "  # Remove current month so as to avoid partial data\n",
    "  FORMAT_DATE('%Y-%m', date) < FORMAT_DATE('%Y-%m', CURRENT_DATE())\n",
    "\n",
    "GROUP BY\n",
    "  month, category, category_name\n",
    "  \n",
    "ORDER BY\n",
    "  category_monthly_gallons DESC"
   ]
  },
  {
   "cell_type": "code",
   "execution_count": null,
   "metadata": {},
   "outputs": [],
   "source": [
    "sales_by_category_month"
   ]
  },
  {
   "cell_type": "markdown",
   "metadata": {},
   "source": [
    "#### Top Overall Sales Categories"
   ]
  },
  {
   "cell_type": "code",
   "execution_count": null,
   "metadata": {},
   "outputs": [],
   "source": [
    "# Get top overall sales categories across entire time span\n",
    "NUM_TOP_CATEGORIES = 20\n",
    "\n",
    "top_overall_sales_categories = (sales_by_category_month.\n",
    "  groupby(['category', 'category_name']).\n",
    "  sum().\n",
    "  sort_values(['category_monthly_gallons'], ascending = False).\n",
    "  reset_index().\n",
    "  head(n = NUM_TOP_CATEGORIES)\n",
    "  )\n",
    "\n",
    "top_overall_sales_categories"
   ]
  },
  {
   "cell_type": "markdown",
   "metadata": {},
   "source": [
    "#### Top Categories Monthly Volume Interactive Time Series Plot"
   ]
  },
  {
   "cell_type": "code",
   "execution_count": null,
   "metadata": {},
   "outputs": [],
   "source": [
    "# Plot Monthly Volume for Top Categories Using plotly\n",
    "\n",
    "top_sales_categories_by_month = (sales_by_category_month[\n",
    "  np.isin(sales_by_category_month['category_name'], \n",
    "    top_overall_sales_categories['category_name'])].\n",
    "  sort_values(['month', 'category_name'])\n",
    "  )\n",
    "\n",
    "top_sales_categories_by_month_plot = px.line(\n",
    "  top_sales_categories_by_month, \n",
    "  x = 'month', \n",
    "  y = 'category_monthly_gallons',\n",
    "  color = 'category_name'\n",
    "  )\n",
    "\n",
    "top_sales_categories_by_month_plot.show()"
   ]
  },
  {
   "cell_type": "markdown",
   "metadata": {},
   "source": [
    "# Understanding Sales Patterns Across Categories\n",
    "<hr>"
   ]
  },
  {
   "cell_type": "markdown",
   "metadata": {},
   "source": [
    "#### Correlation Between Pairs of Categories by Volume Across Months"
   ]
  },
  {
   "cell_type": "code",
   "execution_count": null,
   "metadata": {},
   "outputs": [],
   "source": [
    "# Add start date to BigQuery parameters dictionary\n",
    "bigquery_params = {\n",
    "  # Start w/ September 2016 since plot above shows category shift\n",
    "  'start_date': '2016-09-01'\n",
    "  }"
   ]
  },
  {
   "cell_type": "code",
   "execution_count": null,
   "metadata": {},
   "outputs": [],
   "source": [
    "%%bigquery correlation_among_categories --params $bigquery_params\n",
    "# Look at Correlation Among Categories' Volume Across Months\n",
    "WITH\n",
    "MonthlyTotals AS\n",
    "(\n",
    "  SELECT\n",
    "    FORMAT_DATE('%Y-%m', date) AS month,\n",
    "    SUM(volume_sold_gallons) AS total_monthly_volume\n",
    "\n",
    "  FROM\n",
    "    `bigquery-public-data.iowa_liquor_sales.sales`\n",
    "\n",
    "  WHERE\n",
    "    # Start w/ date given by query parameter\n",
    "    date >= @start_date AND\n",
    "    # Remove current month so as to avoid partial data\n",
    "    FORMAT_DATE('%Y-%m', date) < FORMAT_DATE('%Y-%m', CURRENT_DATE())\n",
    "    \n",
    "  GROUP BY\n",
    "    month\n",
    "),\n",
    "\n",
    "MonthCategory AS\n",
    "(\n",
    "  SELECT\n",
    "    FORMAT_DATE('%Y-%m', date) AS month,\n",
    "    category,\n",
    "    category_name,\n",
    "\n",
    "    SUM(volume_sold_gallons) AS category_monthly_volume,\n",
    "\n",
    "    SAFE_DIVIDE(\n",
    "      SUM(volume_sold_gallons),\n",
    "      total_monthly_volume\n",
    "      ) * 100 AS category_pct_of_month_volume\n",
    "\n",
    "  FROM\n",
    "    `bigquery-public-data.iowa_liquor_sales.sales` Sales\n",
    "    \n",
    "  LEFT JOIN\n",
    "    MonthlyTotals ON \n",
    "      FORMAT_DATE('%Y-%m', Sales.date) = MonthlyTotals.month\n",
    "\n",
    "  WHERE\n",
    "    # Start w/ date given by query parameter\n",
    "    date >= @start_date AND    \n",
    "    # Remove current month so as to avoid partial data\n",
    "    FORMAT_DATE('%Y-%m', date) < FORMAT_DATE('%Y-%m', CURRENT_DATE())\n",
    "\n",
    "  GROUP BY\n",
    "    month, category, category_name, total_monthly_volume\n",
    ")\n",
    "\n",
    "SELECT\n",
    "  Category1.category AS category1,\n",
    "  Category1.category_name AS category_name1,\n",
    "\n",
    "  Category2.category AS category2,\n",
    "  Category2.category_name AS category_name2,\n",
    "\n",
    "  COUNT(DISTINCT Category1.month) AS num_months,\n",
    "\n",
    "  CORR(\n",
    "    Category1.category_pct_of_month_volume,\n",
    "    Category2.category_pct_of_month_volume\n",
    "    ) AS category_corr_across_months,\n",
    "\n",
    "  AVG(Category1.category_pct_of_month_volume) AS\n",
    "    category1_avg_pct_of_month_volume,\n",
    "  AVG(Category2.category_pct_of_month_volume) AS\n",
    "    category2_avg_pct_of_month_volume\n",
    "\n",
    "FROM\n",
    "  MonthCategory Category1\n",
    "\n",
    "INNER JOIN\n",
    "  MonthCategory Category2 ON\n",
    "  (\n",
    "    Category1.month = Category2.month\n",
    "  )\n",
    "\n",
    "GROUP BY\n",
    "  category1, category_name1, category2, category_name2\n",
    "\n",
    "HAVING\n",
    "  # At least 2 years' worth of overlapping months\n",
    "  num_months >= 24 AND\n",
    "  # Each category accounts for >= 1% of monthly volume (on average)\n",
    "  category1_avg_pct_of_month_volume >= 1 AND\n",
    "  category2_avg_pct_of_month_volume >= 1\n",
    "  \n",
    "ORDER BY\n",
    "  category_corr_across_months"
   ]
  },
  {
   "cell_type": "code",
   "execution_count": null,
   "metadata": {},
   "outputs": [],
   "source": [
    "correlation_among_categories"
   ]
  },
  {
   "cell_type": "markdown",
   "metadata": {},
   "source": [
    "#### Heat Map of Category Pair Correlation Coefficients"
   ]
  },
  {
   "cell_type": "code",
   "execution_count": null,
   "metadata": {},
   "outputs": [],
   "source": [
    "# OPTIONAL - show heat map of correlation coefficients\n",
    "category_correlation_matrix = pd.pivot_table(\n",
    "  correlation_among_categories, \n",
    "  values = 'category_corr_across_months', \n",
    "  index = ['category_name1'],\n",
    "  columns = ['category_name2'], \n",
    "  aggfunc = np.mean\n",
    "  )\n",
    "\n",
    "import plotly.figure_factory as ff\n",
    "\n",
    "category_correlation_heatmap = ff.create_annotated_heatmap(\n",
    "  x = category_correlation_matrix.index.tolist(),\n",
    "  y = category_correlation_matrix.columns.tolist(),\n",
    "  z = category_correlation_matrix.values,\n",
    "  annotation_text = category_correlation_matrix.values.round(2),\n",
    "  showscale = True\n",
    "  )\n",
    "\n",
    "category_correlation_heatmap.show(width = 1600, height = 4500)"
   ]
  },
  {
   "cell_type": "markdown",
   "metadata": {},
   "source": [
    "#### CHOSEN Categories Monthly Volume Time Series to Understand Correlation"
   ]
  },
  {
   "cell_type": "code",
   "execution_count": null,
   "metadata": {},
   "outputs": [],
   "source": [
    "# Look at monthly sales volume by category\n",
    "chosen_categories = ['Cream Liqueurs', 'American Brandies', \n",
    "  'American Schnapps', 'Flavored Rum']\n",
    "\n",
    "chosen_categories_sales_by_month = (sales_by_category_month[\n",
    "  (sales_by_category_month['month'] >= '2016-09')\n",
    "  &\n",
    "  np.isin(sales_by_category_month['category_name'], \n",
    "    chosen_categories)].\n",
    "  sort_values(['category_name', 'month'])\n",
    "  )\n",
    "\n",
    "chosen_categories_sales_by_month_plot = px.line(\n",
    "  chosen_categories_sales_by_month,\n",
    "  x = 'month', \n",
    "  y = 'category_monthly_gallons',\n",
    "  color = 'category_name'\n",
    "  )\n",
    "\n",
    "chosen_categories_sales_by_month_plot.show()"
   ]
  },
  {
   "cell_type": "markdown",
   "metadata": {},
   "source": [
    "# Create and Evaluate Product Categories Using K-Means Clustering\n",
    "<hr>"
   ]
  },
  {
   "cell_type": "markdown",
   "metadata": {},
   "source": [
    "#### Example Sales Category Names and Item Descriptions"
   ]
  },
  {
   "cell_type": "code",
   "execution_count": null,
   "metadata": {},
   "outputs": [],
   "source": [
    "%%bigquery\n",
    "SELECT\n",
    "  category_name,\n",
    "  item_description\n",
    "\n",
    "FROM\n",
    "  `bigquery-public-data.iowa_liquor_sales.sales` Sales\n",
    "\n",
    "WHERE\n",
    "  category_name IS NOT NULL AND\n",
    "  item_description IS NOT NULL\n",
    "\n",
    "GROUP BY\n",
    "  category_name, item_description\n",
    "\n",
    "ORDER BY\n",
    "  SAFE_DIVIDE(SUM(sale_dollars), SUM(volume_sold_gallons)) DESC\n",
    "\n",
    "LIMIT 10"
   ]
  },
  {
   "cell_type": "markdown",
   "metadata": {},
   "source": [
    "What we want to avoid:\n",
    "\n",
    "```\n",
    "IF(REGEXP_CONTAINS(LOWER(category_name), \"whiskies|whisky|whiskey|scotch|single malt\"), \"Whiskey\",   \n",
    "  IF(REGEXP_CONTAINS(LOWER(category_name), \"vodka\"), \"Vodka\",   \n",
    "     IF(REGEXP_CONTAINS(LOWER(category_name), \"schnapps|amaretto|liqueur|creme|triple sec\"), \"Liqueur\",   \n",
    "        IF(REGEXP_CONTAINS(LOWER(category_name), \"rum\"), \"Rum\",  \n",
    "           IF(REGEXP_CONTAINS(LOWER(category_name), \"^gin\"), \"Gin\",   \n",
    "              IF(REGEXP_CONTAINS(LOWER(category_name), \"brandy\"), \"Brandy\",  \n",
    "                 IF(REGEXP_CONTAINS(LOWER(category_name), \"tequila\"), \"Tequila\",  \n",
    "                    IF(REGEXP_CONTAINS(LOWER(category_name), \"bourbon\"),   \"Bourbon\",  \n",
    "                       IF(REGEXP_CONTAINS(LOWER(category_name), \"cocktails\"), \"Cocktails\",\n",
    "                          IF(REGEXP_CONTAINS(LOWER(category_name), \"spirit\"), \"Other Spirits\",  \n",
    "```"
   ]
  },
  {
   "cell_type": "markdown",
   "metadata": {},
   "source": [
    "#### Example Categories and Items with Tokens"
   ]
  },
  {
   "cell_type": "code",
   "execution_count": null,
   "metadata": {},
   "outputs": [],
   "source": [
    "%%bigquery\n",
    "SELECT\n",
    "  category_name,\n",
    "  REGEXP_EXTRACT_ALL(LOWER(category_name), '[a-z]+') AS cat_tokens,\n",
    "    \n",
    "  item_description,\n",
    "  REGEXP_EXTRACT_ALL(LOWER(item_description), '[a-z]+') AS item_tokens\n",
    "\n",
    "FROM\n",
    "  `bigquery-public-data.iowa_liquor_sales.sales` Sales\n",
    "\n",
    "WHERE\n",
    "  category_name IS NOT NULL AND\n",
    "  item_description IS NOT NULL\n",
    "\n",
    "GROUP BY\n",
    "  category_name, item_description\n",
    "\n",
    "ORDER BY\n",
    "  SAFE_DIVIDE(SUM(sale_dollars), SUM(volume_sold_gallons)) DESC\n",
    "\n",
    "LIMIT 10"
   ]
  },
  {
   "cell_type": "markdown",
   "metadata": {},
   "source": [
    "#### Categories and Items with Tokens AND Numerical Features"
   ]
  },
  {
   "cell_type": "code",
   "execution_count": null,
   "metadata": {},
   "outputs": [],
   "source": [
    "%%bigquery\n",
    "CREATE OR REPLACE TABLE bqml_tutorial.iowa_liquor_sales_category_info AS\n",
    "(\n",
    "  SELECT\n",
    "    category_name,\n",
    "    REGEXP_EXTRACT_ALL(LOWER(category_name), '[a-z]+') AS cat_tokens,\n",
    "    \n",
    "    item_description,\n",
    "    REGEXP_EXTRACT_ALL(LOWER(item_description), '[a-z]+') AS item_tokens,\n",
    "    \n",
    "    SUM(volume_sold_gallons) total_item_volume,\n",
    "    \n",
    "    SAFE_DIVIDE(\n",
    "      SUM(sale_dollars),\n",
    "      SUM(volume_sold_gallons)\n",
    "      ) AS avg_dollars_per_gallon,\n",
    "    \n",
    "    SAFE_DIVIDE(\n",
    "      SUM(IF(FORMAT_DATE('%m', date) IN ('10', '11', '12'), \n",
    "        volume_sold_gallons, 0)),\n",
    "      SUM(volume_sold_gallons)\n",
    "      ) * 100 AS pct_item_volume_Q4\n",
    "    \n",
    "  FROM\n",
    "    `bigquery-public-data.iowa_liquor_sales.sales` Sales\n",
    "\n",
    "  WHERE\n",
    "    category_name IS NOT NULL AND\n",
    "    item_description IS NOT NULL\n",
    "\n",
    "  GROUP BY\n",
    "    category_name, item_description\n",
    "\n",
    "  HAVING\n",
    "    total_item_volume > 0\n",
    "    \n",
    "  ORDER BY\n",
    "    total_item_volume DESC\n",
    ")"
   ]
  },
  {
   "cell_type": "code",
   "execution_count": null,
   "metadata": {},
   "outputs": [],
   "source": [
    "%%bigquery\n",
    "\n",
    "SELECT *\n",
    "\n",
    "FROM\n",
    "  bqml_tutorial.iowa_liquor_sales_category_info\n",
    "\n",
    "ORDER BY\n",
    "  total_item_volume DESC\n",
    "\n",
    "LIMIT 10"
   ]
  },
  {
   "cell_type": "markdown",
   "metadata": {},
   "source": [
    "#### Perform K-Means Clustering on Product Categories"
   ]
  },
  {
   "cell_type": "code",
   "execution_count": null,
   "metadata": {},
   "outputs": [],
   "source": [
    "%%bigquery\n",
    "\n",
    "CREATE OR REPLACE MODEL bqml_tutorial.category_names_kmeans10\n",
    "  OPTIONS(model_type = 'kmeans', num_clusters = 10, \n",
    "    kmeans_init_method = 'KMEANS++') AS\n",
    "(\n",
    "  SELECT\n",
    "    cat_tokens,\n",
    "    item_tokens,\n",
    "    avg_dollars_per_gallon,\n",
    "    pct_item_volume_Q4\n",
    "\n",
    "  FROM\n",
    "    bqml_tutorial.iowa_liquor_sales_category_info\n",
    ")\n",
    ";"
   ]
  },
  {
   "cell_type": "markdown",
   "metadata": {},
   "source": [
    "#### Evaluate K-Means Clustering"
   ]
  },
  {
   "cell_type": "code",
   "execution_count": null,
   "metadata": {},
   "outputs": [],
   "source": [
    "%%bigquery\n",
    "SELECT * \n",
    "\n",
    "FROM\n",
    "  ML.EVALUATE(MODEL bqml_tutorial.category_names_kmeans10)\n",
    ";"
   ]
  },
  {
   "cell_type": "markdown",
   "metadata": {},
   "source": [
    "#### Look at K-Means Clustering Centroids"
   ]
  },
  {
   "cell_type": "code",
   "execution_count": null,
   "metadata": {},
   "outputs": [],
   "source": [
    "%%bigquery category_kmeans_centroids\n",
    "SELECT *\n",
    "\n",
    "FROM\n",
    "  ML.CENTROIDS(MODEL bqml_tutorial.category_names_kmeans10)"
   ]
  },
  {
   "cell_type": "code",
   "execution_count": null,
   "metadata": {},
   "outputs": [],
   "source": [
    "pd.set_option('max_colwidth', 50)\n",
    "display(category_kmeans_centroids)"
   ]
  },
  {
   "cell_type": "markdown",
   "metadata": {},
   "source": [
    "#### Study Clustering Results in More Detail"
   ]
  },
  {
   "cell_type": "code",
   "execution_count": null,
   "metadata": {},
   "outputs": [],
   "source": [
    "%%bigquery category_kmeans_clustering_results\n",
    "\n",
    "# CREATE OR REPLACE TABLE bqml_tutorial.category_names_kmeans_results AS\n",
    "SELECT\n",
    "  CENTROID_ID AS cluster,\n",
    "  \n",
    "  SUM(total_item_volume) AS total_volume,\n",
    "    \n",
    "  SAFE_DIVIDE(\n",
    "    SUM(total_item_volume * avg_dollars_per_gallon),\n",
    "    SUM(total_item_volume)\n",
    "    ) AS avg_dollars_per_gallon,\n",
    "\n",
    "  SAFE_DIVIDE(\n",
    "    SUM(total_item_volume * pct_item_volume_Q4),\n",
    "    SUM(total_item_volume)\n",
    "    ) AS pct_volume_Q4,\n",
    " \n",
    "  STRING_AGG(item_description, ', ' ORDER BY total_item_volume DESC LIMIT 10)\n",
    "    AS top_items,\n",
    "    \n",
    "  STRING_AGG(DISTINCT category_name, ', ' ORDER BY category_name\n",
    "    ) AS categories\n",
    "\n",
    "FROM\n",
    "  ML.PREDICT(\n",
    "    MODEL bqml_tutorial.category_names_kmeans10,\n",
    "    TABLE bqml_tutorial.iowa_liquor_sales_category_info\n",
    "  )\n",
    "\n",
    "GROUP BY\n",
    "  cluster\n",
    "\n",
    "ORDER BY\n",
    "  total_volume DESC"
   ]
  },
  {
   "cell_type": "code",
   "execution_count": null,
   "metadata": {},
   "outputs": [],
   "source": [
    "# Set option for longer columns to help with long strings here\n",
    "pd.set_option('max_colwidth', 2000)\n",
    "display(category_kmeans_clustering_results)"
   ]
  }
 ],
 "metadata": {
  "environment": {
   "name": "common-cpu.m46",
   "type": "gcloud",
   "uri": "gcr.io/deeplearning-platform-release/base-cpu:m46"
  },
  "kernelspec": {
   "display_name": "Python 3",
   "language": "python",
   "name": "python3"
  },
  "language_info": {
   "codemirror_mode": {
    "name": "ipython",
    "version": 3
   },
   "file_extension": ".py",
   "mimetype": "text/x-python",
   "name": "python",
   "nbconvert_exporter": "python",
   "pygments_lexer": "ipython3",
   "version": "3.7.6"
  },
  "toc-autonumbering": false,
  "toc-showcode": true,
  "toc-showmarkdowntxt": false
 },
 "nbformat": 4,
 "nbformat_minor": 4
}
