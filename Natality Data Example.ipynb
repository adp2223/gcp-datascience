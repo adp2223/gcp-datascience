{
  "nbformat": 4,
  "nbformat_minor": 0,
  "metadata": {
    "environment": {
      "name": "common-cpu.m46",
      "type": "gcloud",
      "uri": "gcr.io/deeplearning-platform-release/base-cpu:m46"
    },
    "kernelspec": {
      "display_name": "Python 3",
      "language": "python",
      "name": "python3"
    },
    "language_info": {
      "codemirror_mode": {
        "name": "ipython",
        "version": 3
      },
      "file_extension": ".py",
      "mimetype": "text/x-python",
      "name": "python",
      "nbconvert_exporter": "python",
      "pygments_lexer": "ipython3",
      "version": "3.7.6"
    },
    "colab": {
      "name": "Natality Data Example.ipynb",
      "provenance": []
    }
  },
  "cells": [
    {
      "cell_type": "code",
      "metadata": {
        "id": "NsyVb-gGmwk-"
      },
      "source": [
        "from google.cloud import bigquery"
      ],
      "execution_count": null,
      "outputs": []
    },
    {
      "cell_type": "code",
      "metadata": {
        "id": "F4cOhee9mwlC"
      },
      "source": [
        "query = \"\"\"\n",
        "    SELECT\n",
        "      weight_pounds,\n",
        "      is_male,\n",
        "      mother_age,\n",
        "      plurality,\n",
        "      gestation_weeks\n",
        "    FROM\n",
        "      publicdata.samples.natality\n",
        "    WHERE year > 2000\n",
        "    LIMIT 100\n",
        "  \"\"\"\n",
        "\n",
        "df = bigquery.Client().query(query).to_dataframe()\n",
        "\n",
        "df.head()"
      ],
      "execution_count": null,
      "outputs": []
    },
    {
      "cell_type": "code",
      "metadata": {
        "id": "C4cf04rhmwlG"
      },
      "source": [
        "def get_distinct_values(column_name):\n",
        "  sql = \"\"\"\n",
        "SELECT\n",
        "  {0},\n",
        "  COUNT(1) AS num_babies,\n",
        "  AVG(weight_pounds) AS avg_wt\n",
        "FROM\n",
        "  publicdata.samples.natality\n",
        "WHERE\n",
        "  year > 2000\n",
        "GROUP BY\n",
        "  {0}\n",
        "  \"\"\".format(column_name)\n",
        "  return bigquery.Client().query(sql).to_dataframe()\n",
        "\n",
        "df = get_distinct_values('is_male')\n",
        "df.plot(x='is_male', y='avg_wt', kind='bar');"
      ],
      "execution_count": null,
      "outputs": []
    },
    {
      "cell_type": "code",
      "metadata": {
        "id": "uJXg9sD2mwlJ"
      },
      "source": [
        "df = get_distinct_values('gestation_weeks')\n",
        "df = df.sort_values('gestation_weeks')\n",
        "df.plot(x='gestation_weeks', y='avg_wt', kind='bar');"
      ],
      "execution_count": null,
      "outputs": []
    }
  ]
}